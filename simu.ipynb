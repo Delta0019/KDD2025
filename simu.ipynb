{
 "cells": [
  {
   "cell_type": "code",
   "execution_count": 1,
   "id": "a2f408a2",
   "metadata": {},
   "outputs": [
    {
     "name": "stderr",
     "output_type": "stream",
     "text": [
      "/home/yangxiaojie/anaconda3/envs/py38/lib/python3.8/site-packages/tqdm/auto.py:21: TqdmWarning: IProgress not found. Please update jupyter and ipywidgets. See https://ipywidgets.readthedocs.io/en/stable/user_install.html\n",
      "  from .autonotebook import tqdm as notebook_tqdm\n"
     ]
    }
   ],
   "source": [
    "import pickle as pk\n",
    "import numpy as np\n",
    "from normalization import *\n",
    "import torch\n",
    "from dataloader import combine_sparse_tensors\n",
    "from tqdm import tqdm\n",
    "from datetime import datetime, timedelta\n",
    "import matplotlib.pyplot as plt"
   ]
  },
  {
   "cell_type": "code",
   "execution_count": 76,
   "id": "65571580",
   "metadata": {},
   "outputs": [],
   "source": [
    "import pandas as pd\n",
    "import pickle as pk\n",
    "regions = pd.read_csv('/home/yangxiaojie/KDD2025/poi/FEA_hyoujun.csv')\n",
    "\n",
    "def nan_to_empty_str(value):\n",
    "    if pd.isna(value):\n",
    "        return ''\n",
    "    return str(value)\n",
    "\n",
    "code2region = dict()\n",
    "for i, row in regions.iterrows():\n",
    "    code2region[str(row['標準地域コード']).zfill(5)] = row['都道府県'] + nan_to_empty_str(row['政令市･郡･支庁･振興局等']) + nan_to_empty_str(row['市区町村'])\n",
    "\n",
    "region2code = dict(zip(list(code2region.values()), list(code2region.keys())))\n",
    "\n",
    "\n",
    "with open('/home/yangxiaojie/KDD2025/selected_mesh.pk', 'rb') as f:\n",
    "    selected_mesh = pk.load(f)\n",
    "\n",
    "assert len(set(selected_mesh.values())) == reg_num\n",
    "\n",
    "idx2code = dict(zip(list(range(reg_num)), sorted(set(selected_mesh.values()))))\n",
    "\n",
    "code2idx = dict(zip(idx2code.values(),idx2code.keys()))"
   ]
  },
  {
   "cell_type": "code",
   "execution_count": 2,
   "id": "5d788505",
   "metadata": {},
   "outputs": [],
   "source": [
    "def data_scaler(data):\n",
    "    data = torch.FloatTensor(data)\n",
    "    scaler = StandardScaler(mean = data.mean(dim = 0), std = data.std(dim = 0))\n",
    "    return scaler"
   ]
  },
  {
   "cell_type": "code",
   "execution_count": 3,
   "id": "a6fbd001",
   "metadata": {},
   "outputs": [],
   "source": [
    "interval = 4\n",
    "reg_num = 490\n",
    "treat_dim = 10\n",
    "tim_num = 24\n",
    "input_window = 24\n",
    "output_window = 24\n",
    "training_rate = 0.8\n",
    "validate_rate = 0.1\n",
    "test_rate = 0.1\n",
    "causal = True"
   ]
  },
  {
   "cell_type": "code",
   "execution_count": 4,
   "id": "7529b6db",
   "metadata": {},
   "outputs": [],
   "source": [
    "with open('/home/yangxiaojie/KDD2025/model/data/odmetrics_sparse_tensors.pk', 'rb') as f:\n",
    "    adjacency_matrix = pk.load(f)"
   ]
  },
  {
   "cell_type": "code",
   "execution_count": 5,
   "id": "b1b3c31e",
   "metadata": {},
   "outputs": [],
   "source": [
    "flows = np.load('/home/yangxiaojie/KDD2025/model/data/flows.npy')\n",
    "flows = flows[:, ::interval, :]\n",
    "flows = flows.reshape(len(adjacency_matrix), reg_num)"
   ]
  },
  {
   "cell_type": "code",
   "execution_count": 6,
   "id": "308c4be1",
   "metadata": {},
   "outputs": [],
   "source": [
    "treatment_path = '/home/yangxiaojie/KDD2025/samples・説明書/treatment_scores_0618.pk'\n",
    "with open(treatment_path, 'rb') as f:\n",
    "    treatments = pk.load(f)"
   ]
  },
  {
   "cell_type": "code",
   "execution_count": 230,
   "id": "3179fcc9",
   "metadata": {},
   "outputs": [
    {
     "name": "stderr",
     "output_type": "stream",
     "text": [
      "/home/yangxiaojie/anaconda3/envs/py38/lib/python3.8/site-packages/numpy/core/fromnumeric.py:3432: RuntimeWarning: Mean of empty slice.\n",
      "  return _methods._mean(a, axis=axis, dtype=dtype,\n",
      "/home/yangxiaojie/anaconda3/envs/py38/lib/python3.8/site-packages/numpy/core/_methods.py:190: RuntimeWarning: invalid value encountered in double_scalars\n",
      "  ret = ret.dtype.type(ret / rcount)\n"
     ]
    }
   ],
   "source": [
    "treat_dict = {}\n",
    "alltreat = []\n",
    "\n",
    "alltreat = np.zeros((len(adjacency_matrix), reg_num, treat_dim))\n",
    "alltreat[:, :, 3] = 100\n",
    "\n",
    "for d in treatments:\n",
    "    for t in treatments[d]:\n",
    "        treat_dict[d * tim_num + t] = {}\n",
    "        for c in treatments[d][t]:\n",
    "            treat = np.mean([_ for _ in treatments[d][t][c] if len(_) == treat_dim], axis = 0)\n",
    "            if np.isnan(treat).any():\n",
    "                treat = np.array([0, 0, 0, 100, 0, 0, 0, 0, 0, 0])\n",
    "            treat[3] = 100 - treat[3]\n",
    "            alltreat[d * tim_num + t, c] = treat"
   ]
  },
  {
   "cell_type": "code",
   "execution_count": 235,
   "id": "83aad41f",
   "metadata": {
    "scrolled": true
   },
   "outputs": [],
   "source": [
    "treat_max = np.max(alltreat, axis=(0, 1), keepdims=True)\n",
    "\n",
    "treat_min = np.min(alltreat, axis=(0, 1), keepdims=True)\n",
    "\n",
    "alltreat = (alltreat - treat_min) / (treat_max - treat_min)"
   ]
  },
  {
   "cell_type": "code",
   "execution_count": 250,
   "id": "0170927c",
   "metadata": {},
   "outputs": [
    {
     "data": {
      "text/plain": [
       "tensor(0.9004)"
      ]
     },
     "execution_count": 250,
     "metadata": {},
     "output_type": "execute_result"
    }
   ],
   "source": [
    "treat = torch.rand((128, 24, 64))\n",
    "treat[0, -1, 0]"
   ]
  },
  {
   "cell_type": "code",
   "execution_count": 251,
   "id": "1bd8fb06",
   "metadata": {},
   "outputs": [
    {
     "data": {
      "text/plain": [
       "tensor(0.9004)"
      ]
     },
     "execution_count": 251,
     "metadata": {},
     "output_type": "execute_result"
    }
   ],
   "source": [
    "torch.flip(treat, [1])[0, 0, 0]"
   ]
  },
  {
   "cell_type": "code",
   "execution_count": 8,
   "id": "a3b5bd90",
   "metadata": {
    "scrolled": true
   },
   "outputs": [],
   "source": [
    "indices = []\n",
    "for i in range(flows.shape[0]- input_window - output_window):\n",
    "    indices.append(list(range(i, i + input_window + output_window)))"
   ]
  },
  {
   "cell_type": "code",
   "execution_count": 9,
   "id": "a3474c3a",
   "metadata": {},
   "outputs": [],
   "source": [
    "length = len(indices)\n",
    "train_len = int(length * training_rate)\n",
    "valid_len = int(length * validate_rate)\n",
    "train_uplimit = indices[train_len][-1]\n",
    "scaler = data_scaler(flows[:train_uplimit, :])"
   ]
  },
  {
   "cell_type": "code",
   "execution_count": 12,
   "id": "745b4fc9",
   "metadata": {},
   "outputs": [
    {
     "name": "stderr",
     "output_type": "stream",
     "text": [
      "Processing: 100%|██████████████████████████████████████████████████████████████████████████████████████████████████████████████████████████████████████████████████████████████████████████████████████████████████████████████████████████████████████████████████████████████████████████████████████████████████████████████████████| 8736/8736 [02:25<00:00, 59.99it/s]\n"
     ]
    }
   ],
   "source": [
    "data = []\n",
    "for index, indice in enumerate(tqdm(indices, desc=\"Processing\")):\n",
    "    x = scaler.transform(torch.FloatTensor(flows[indice[:input_window], :]))\n",
    "\n",
    "    y = scaler.transform(torch.FloatTensor(flows[indice[input_window:], :]))\n",
    "    if causal:\n",
    "        treats = alltreat[indice[0] : indice[input_window], :, :]\n",
    "    else:\n",
    "        treats = None\n",
    "\n",
    "    adj = combine_sparse_tensors(adjacency_matrix[indice[0] : indice[input_window]])\n",
    "    indice = torch.LongTensor(indice)\n",
    "    t = indice[:input_window] % tim_num  # 获取时间步\n",
    "    t = t.unsqueeze(1).expand(-1, x.shape[1])  # 扩展时间步的维度\n",
    "\n",
    "    data.append([indice, x, y, t, treats, adj])"
   ]
  },
  {
   "cell_type": "code",
   "execution_count": 16,
   "id": "8131c0a5",
   "metadata": {
    "scrolled": true
   },
   "outputs": [
    {
     "data": {
      "text/plain": [
       "array([[[0., 0., 0., ..., 0., 0., 0.],\n",
       "        [0., 0., 0., ..., 0., 0., 0.],\n",
       "        [0., 0., 0., ..., 0., 0., 0.],\n",
       "        ...,\n",
       "        [0., 0., 0., ..., 0., 0., 0.],\n",
       "        [0., 0., 0., ..., 0., 0., 0.],\n",
       "        [0., 0., 0., ..., 0., 0., 0.]],\n",
       "\n",
       "       [[0., 0., 0., ..., 0., 0., 0.],\n",
       "        [0., 0., 0., ..., 0., 0., 0.],\n",
       "        [0., 0., 0., ..., 0., 0., 0.],\n",
       "        ...,\n",
       "        [0., 0., 0., ..., 0., 0., 0.],\n",
       "        [0., 0., 0., ..., 0., 0., 0.],\n",
       "        [0., 0., 0., ..., 0., 0., 0.]],\n",
       "\n",
       "       [[0., 0., 0., ..., 0., 0., 0.],\n",
       "        [0., 0., 0., ..., 0., 0., 0.],\n",
       "        [0., 0., 0., ..., 0., 0., 0.],\n",
       "        ...,\n",
       "        [0., 0., 0., ..., 0., 0., 0.],\n",
       "        [0., 0., 0., ..., 0., 0., 0.],\n",
       "        [0., 0., 0., ..., 0., 0., 0.]],\n",
       "\n",
       "       ...,\n",
       "\n",
       "       [[0., 0., 0., ..., 0., 0., 0.],\n",
       "        [0., 0., 0., ..., 0., 0., 0.],\n",
       "        [0., 0., 0., ..., 0., 0., 0.],\n",
       "        ...,\n",
       "        [0., 0., 0., ..., 0., 0., 0.],\n",
       "        [0., 0., 0., ..., 0., 0., 0.],\n",
       "        [0., 0., 0., ..., 0., 0., 0.]],\n",
       "\n",
       "       [[0., 0., 0., ..., 0., 0., 0.],\n",
       "        [0., 0., 0., ..., 0., 0., 0.],\n",
       "        [0., 0., 0., ..., 0., 0., 0.],\n",
       "        ...,\n",
       "        [0., 0., 0., ..., 0., 0., 0.],\n",
       "        [0., 0., 0., ..., 0., 0., 0.],\n",
       "        [0., 0., 0., ..., 0., 0., 0.]],\n",
       "\n",
       "       [[0., 0., 0., ..., 0., 0., 0.],\n",
       "        [0., 0., 0., ..., 0., 0., 0.],\n",
       "        [0., 0., 0., ..., 0., 0., 0.],\n",
       "        ...,\n",
       "        [0., 0., 0., ..., 0., 0., 0.],\n",
       "        [0., 0., 0., ..., 0., 0., 0.],\n",
       "        [0., 0., 0., ..., 0., 0., 0.]]])"
      ]
     },
     "execution_count": 16,
     "metadata": {},
     "output_type": "execute_result"
    }
   ],
   "source": [
    "data[0][4]"
   ]
  },
  {
   "cell_type": "code",
   "execution_count": 17,
   "id": "dfa28215",
   "metadata": {},
   "outputs": [],
   "source": [
    "def calculate_hour(hours_passed, start_date = '2023-04-01'):\n",
    "    # 将起始日期转换为 datetime 对象\n",
    "    start_datetime = datetime.strptime(start_date, '%Y-%m-%d')\n",
    "    \n",
    "    # 计算目标日期时间\n",
    "    target_datetime = start_datetime + timedelta(hours=hours_passed)\n",
    "    \n",
    "    # 检查是否为周末\n",
    "    is_weekend = target_datetime.weekday() >= 5  # 5 是周六，6 是周日\n",
    "    \n",
    "    # 计算目标小时（0-23 或 24-47）\n",
    "    if is_weekend:\n",
    "        result_hour = target_datetime.hour + 24\n",
    "    else:\n",
    "        result_hour = target_datetime.hour\n",
    "    \n",
    "    return result_hour"
   ]
  },
  {
   "cell_type": "code",
   "execution_count": 18,
   "id": "742413eb",
   "metadata": {},
   "outputs": [],
   "source": [
    "def calculate_week_hour(hours_passed, start_date = '2023-04-01'):\n",
    "    # 将起始日期转换为 datetime 对象\n",
    "    start_datetime = datetime.strptime(start_date, '%Y-%m-%d')\n",
    "    \n",
    "    # 计算目标日期时间\n",
    "    target_datetime = start_datetime + timedelta(hours=hours_passed)\n",
    "    \n",
    "    # 计算从周开始的小时数（0-143）\n",
    "    #days_since_week_start = target_datetime.weekday() # 星期一为0\n",
    "    result_hour = target_datetime.weekday() * 24 + target_datetime.hour\n",
    "    \n",
    "    return result_hour"
   ]
  },
  {
   "cell_type": "code",
   "execution_count": 19,
   "id": "a3173a5c",
   "metadata": {},
   "outputs": [],
   "source": [
    "start_date = '2023-04-01'\n",
    "start_datetime = datetime.strptime(start_date, '%Y-%m-%d')\n",
    "\n",
    "# 计算目标日期时间\n",
    "target_datetime = start_datetime + timedelta(hours=20)"
   ]
  },
  {
   "cell_type": "code",
   "execution_count": 45,
   "id": "6fddf6a8",
   "metadata": {},
   "outputs": [],
   "source": [
    "def combine_sparse_tensors(tensor_list):\n",
    "    batch_size = len(tensor_list)\n",
    "    V = tensor_list[0].size(0)\n",
    "    \n",
    "    combined_indices = []\n",
    "    combined_values = []\n",
    "\n",
    "    # 遍历列表中的每个稀疏张量\n",
    "    for i, tensor in enumerate(tensor_list):\n",
    "        indices = tensor._indices()\n",
    "        values = tensor._values()\n",
    "        \n",
    "        # 添加批次维度信息\n",
    "        batch_indices = torch.cat([torch.full((1, indices.size(1)), i, dtype=torch.long), indices], dim=0)\n",
    "        \n",
    "        # 将当前张量的 indices 和 values 添加到组合列表中\n",
    "        if len(combined_indices) == 0:\n",
    "            combined_indices = batch_indices\n",
    "            combined_values = values\n",
    "        else:\n",
    "            combined_indices = torch.cat((combined_indices, batch_indices), dim=1)\n",
    "            combined_values = torch.cat((combined_values, values))\n",
    "\n",
    "    # 新的张量大小\n",
    "    size = torch.Size([batch_size, V, V])\n",
    "\n",
    "    # 创建合并后的稀疏张量\n",
    "    combined_tensor = torch.sparse_coo_tensor(combined_indices, combined_values, size=size)\n",
    "    \n",
    "    return combined_tensor"
   ]
  },
  {
   "cell_type": "code",
   "execution_count": 24,
   "id": "ef49deff",
   "metadata": {
    "scrolled": true
   },
   "outputs": [],
   "source": [
    "device = 'cuda:0'\n",
    "causal_model = torch.load('/home/yangxiaojie/KDD2025/model/models/model_4617_1111_True.pth').to(device)"
   ]
  },
  {
   "cell_type": "code",
   "execution_count": 192,
   "id": "36e84d77",
   "metadata": {},
   "outputs": [
    {
     "name": "stdout",
     "output_type": "stream",
     "text": [
      "145\n",
      "2832\n"
     ]
    }
   ],
   "source": [
    "import pandas as pd\n",
    "start_date = '2023-04-01 00:00:00'\n",
    "target_time = '2023-07-28 00:00:00'\n",
    "target_region = '東京都墨田区'\n",
    "region_idx = code2idx[region2code[target_region]]\n",
    "\n",
    "# 将日期字符串转换为 datetime 对象\n",
    "start_date = pd.to_datetime(start_date)\n",
    "target_time = pd.to_datetime(target_time)\n",
    "\n",
    "# 计算时间差\n",
    "time_difference = target_time - start_date\n",
    "\n",
    "# 将时间差转换为小时数\n",
    "time_idx = int(time_difference.total_seconds() / 3600)\n",
    "print(region_idx)\n",
    "print(time_idx)"
   ]
  },
  {
   "cell_type": "code",
   "execution_count": 193,
   "id": "f31cf589",
   "metadata": {
    "scrolled": true
   },
   "outputs": [],
   "source": [
    "device = 'cuda:0'\n",
    "indice, x, y, _, treat, adj = data[time_idx]\n",
    "mask = None\n",
    "\n",
    "causal_model.eval()\n",
    "\n",
    "indice = torch.LongTensor(indice)\n",
    "t = torch.LongTensor([calculate_week_hour(i.numpy().tolist()) for i in indice[:input_window]])\n",
    "#t = indice[:self.args.input_window] % self.args.tim_num  # 获取时间步\n",
    "t = t.unsqueeze(1).expand(-1, x.shape[1])  # 扩展时间步的维度\n",
    "\n",
    "x = x.unsqueeze(0).unsqueeze(-1).to(device)\n",
    "y = y.unsqueeze(0).to(device)\n",
    "t = t.unsqueeze(0).to(device)\n",
    "adj = adj.unsqueeze(0).to(device)\n",
    "treat = torch.FloatTensor(treat).unsqueeze(0).to(device) / 100\n",
    "treat_fake = torch.rand_like(treat)\n",
    "y = y.permute(0, 2, 1)\n",
    "y_pre, w, z, _ = causal_model(x, t, treat_fake, adj, mask)\n",
    "y_pre = y_pre.unsqueeze(-1).reshape(y.shape)\n",
    "\n",
    "preds = []\n",
    "trues = []\n",
    "for i in range(output_window):  \n",
    "    y_pred = torch.flatten(scaler.inverse_transform(y_pre[:, :, i].cpu().squeeze())).detach().numpy().tolist()\n",
    "    y_true = torch.flatten(scaler.inverse_transform(y[:, :, i].cpu().squeeze())).detach().numpy().tolist()\n",
    "    preds.append(y_pred[region_idx])\n",
    "    trues.append(y_true[region_idx])"
   ]
  },
  {
   "cell_type": "code",
   "execution_count": 194,
   "id": "ea466187",
   "metadata": {},
   "outputs": [
    {
     "data": {
      "text/plain": [
       "tensor([0.3497, 0.3197, 0.2888, 0.2601, 0.2470, 0.2412, 0.2453, 0.2518, 0.2693,\n",
       "        0.2738, 0.2809, 0.2978, 0.2980, 0.2952, 0.3074, 0.3104, 0.3144, 0.3206,\n",
       "        0.3150, 0.3159, 0.2923, 0.2788, 0.2734, 0.2725], device='cuda:0',\n",
       "       grad_fn=<SliceBackward0>)"
      ]
     },
     "execution_count": 194,
     "metadata": {},
     "output_type": "execute_result"
    }
   ],
   "source": [
    "w[region_idx, :]"
   ]
  },
  {
   "cell_type": "code",
   "execution_count": 195,
   "id": "6b7e30c7",
   "metadata": {
    "scrolled": true
   },
   "outputs": [
    {
     "data": {
      "text/plain": [
       "tensor([[0.0000, 0.0000, 0.0000, 1.0000, 0.0000, 0.0000, 0.0000, 0.0000, 0.0000,\n",
       "         0.0000],\n",
       "        [0.0000, 0.0000, 0.0000, 1.0000, 0.0000, 0.0000, 0.0000, 0.0000, 0.0000,\n",
       "         0.0000],\n",
       "        [0.0000, 0.0000, 0.0000, 1.0000, 0.0000, 0.0000, 0.0000, 0.0000, 0.0000,\n",
       "         0.0000],\n",
       "        [0.0000, 0.0000, 0.0000, 1.0000, 0.0000, 0.0000, 0.0000, 0.0000, 0.0000,\n",
       "         0.0000],\n",
       "        [0.0000, 0.0000, 0.0000, 1.0000, 0.0000, 0.0000, 0.0000, 0.0000, 0.0000,\n",
       "         0.0000],\n",
       "        [0.0000, 0.0000, 0.0000, 1.0000, 0.0000, 0.0000, 0.0000, 0.0000, 0.0000,\n",
       "         0.0000],\n",
       "        [0.0000, 0.0000, 0.0000, 1.0000, 0.0000, 0.0000, 0.0000, 0.0000, 0.0000,\n",
       "         0.0000],\n",
       "        [0.0000, 0.0000, 0.0000, 1.0000, 0.0000, 0.0000, 0.0000, 0.0000, 0.0000,\n",
       "         0.0000],\n",
       "        [0.0000, 0.0000, 0.0000, 1.0000, 0.0000, 0.0000, 0.0000, 0.0000, 0.0000,\n",
       "         0.0000],\n",
       "        [0.0000, 0.0000, 0.0000, 1.0000, 0.0000, 0.0000, 0.0000, 0.0000, 0.0000,\n",
       "         0.0000],\n",
       "        [0.0000, 0.0000, 0.0000, 1.0000, 0.0000, 0.0000, 0.0000, 0.0000, 0.0000,\n",
       "         0.0000],\n",
       "        [0.0000, 0.0000, 0.0000, 1.0000, 0.0000, 0.0000, 0.0000, 0.0000, 0.0000,\n",
       "         0.0000],\n",
       "        [0.0000, 0.8000, 0.0000, 0.1000, 0.0000, 0.0000, 0.5000, 0.3000, 0.2000,\n",
       "         0.7000],\n",
       "        [0.0000, 0.1500, 0.0500, 0.7000, 0.1500, 0.1000, 0.1500, 0.0000, 0.0000,\n",
       "         0.7000],\n",
       "        [0.0000, 0.0000, 0.0000, 1.0000, 0.0000, 0.0000, 0.0000, 0.0000, 0.0000,\n",
       "         0.0000],\n",
       "        [0.0000, 0.0000, 0.0000, 1.0000, 0.0000, 0.0000, 0.0000, 0.0000, 0.0000,\n",
       "         0.0000],\n",
       "        [0.0500, 0.1000, 0.0250, 0.8000, 0.0500, 0.0000, 0.1000, 0.1750, 0.3500,\n",
       "         0.5000],\n",
       "        [0.0500, 0.0250, 0.0000, 0.7500, 0.1000, 0.0500, 0.3000, 0.1500, 0.4000,\n",
       "         0.5500],\n",
       "        [0.8500, 0.1500, 0.0000, 0.3000, 0.0500, 0.1250, 0.2750, 0.3500, 0.5500,\n",
       "         0.5500],\n",
       "        [0.0000, 0.0000, 0.0000, 1.0000, 0.0000, 0.0000, 0.0000, 0.0000, 0.0000,\n",
       "         0.0000],\n",
       "        [0.8000, 0.1000, 0.0000, 0.9000, 0.2000, 0.5000, 0.4000, 0.7000, 0.3000,\n",
       "         1.0000],\n",
       "        [0.0000, 0.0000, 0.0000, 1.0000, 0.0000, 0.0000, 0.0000, 0.0000, 0.0000,\n",
       "         0.0000],\n",
       "        [0.0000, 0.0000, 0.0000, 1.0000, 0.0000, 0.0000, 0.0000, 0.0000, 0.0000,\n",
       "         0.0000],\n",
       "        [0.8000, 0.0000, 0.1000, 0.2000, 0.0000, 0.0000, 0.3000, 0.0500, 0.1500,\n",
       "         0.7000]], device='cuda:0')"
      ]
     },
     "execution_count": 195,
     "metadata": {},
     "output_type": "execute_result"
    }
   ],
   "source": []
  },
  {
   "cell_type": "code",
   "execution_count": 196,
   "id": "16a65ab2",
   "metadata": {
    "scrolled": false
   },
   "outputs": [
    {
     "data": {
      "image/png": "[encoded data removed]",
      "text/plain": [
       "<Figure size 1000x600 with 1 Axes>"
      ]
     },
     "metadata": {},
     "output_type": "display_data"
    }
   ],
   "source": [
    "plt.figure(figsize=(10, 6))\n",
    "plt.plot(preds, label='Predictions', color='g')\n",
    "plt.plot(trues, label='Ground Truth', color='r')\n",
    "plt.xlabel('Time')\n",
    "plt.ylabel('Values')\n",
    "plt.title('Predictions vs True Values')\n",
    "plt.legend()\n",
    "plt.show()"
   ]
  },
  {
   "cell_type": "code",
   "execution_count": 202,
   "id": "e373b2d7",
   "metadata": {},
   "outputs": [
    {
     "data": {
      "text/plain": [
       "tensor([], device='cuda:0', size=(0, 10))"
      ]
     },
     "execution_count": 202,
     "metadata": {},
     "output_type": "execute_result"
    }
   ],
   "source": [
    "treat[0, :, region_idx, :][, :]"
   ]
  }
 ],
 "metadata": {
  "kernelspec": {
   "display_name": "Python 3.8",
   "language": "python",
   "name": "py38"
  },
  "language_info": {
   "codemirror_mode": {
    "name": "ipython",
    "version": 3
   },
   "file_extension": ".py",
   "mimetype": "text/x-python",
   "name": "python",
   "nbconvert_exporter": "python",
   "pygments_lexer": "ipython3",
   "version": "3.8.0"
  }
 },
 "nbformat": 4,
 "nbformat_minor": 5
}

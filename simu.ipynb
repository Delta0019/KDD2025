{
 "cells": [
  {
   "cell_type": "code",
   "execution_count": 27,
   "id": "a2f408a2",
   "metadata": {},
   "outputs": [],
   "source": [
    "import pickle as pk\n",
    "import numpy as np\n",
    "from normalization import *\n",
    "import torch\n",
    "from dataloader import combine_sparse_tensors\n",
    "from tqdm import tqdm\n",
    "from datetime import datetime, timedelta"
   ]
  },
  {
   "cell_type": "code",
   "execution_count": 15,
   "id": "5d788505",
   "metadata": {},
   "outputs": [],
   "source": [
    "def data_scaler(data):\n",
    "    data = torch.FloatTensor(data)\n",
    "    scaler = StandardScaler(mean = data.mean(dim = 0), std = data.std(dim = 0))\n",
    "    return scaler"
   ]
  },
  {
   "cell_type": "code",
   "execution_count": 19,
   "id": "a6fbd001",
   "metadata": {},
   "outputs": [],
   "source": [
    "interval = 4\n",
    "reg_num = 490\n",
    "treat_dim = 10\n",
    "tim_num = 24\n",
    "input_window = 24\n",
    "output_window = 24\n",
    "training_rate = 0.8\n",
    "validate_rate = 0.1\n",
    "causal = True"
   ]
  },
  {
   "cell_type": "code",
   "execution_count": 3,
   "id": "7529b6db",
   "metadata": {},
   "outputs": [
    {
     "name": "stderr",
     "output_type": "stream",
     "text": [
      "/home/yangxiaojie/anaconda3/envs/py38/lib/python3.8/site-packages/tqdm/auto.py:21: TqdmWarning: IProgress not found. Please update jupyter and ipywidgets. See https://ipywidgets.readthedocs.io/en/stable/user_install.html\n",
      "  from .autonotebook import tqdm as notebook_tqdm\n"
     ]
    }
   ],
   "source": [
    "with open('/home/yangxiaojie/KDD2025/model/data/odmetrics_sparse_tensors.pk', 'rb') as f:\n",
    "    adjacency_matrix = pk.load(f)"
   ]
  },
  {
   "cell_type": "code",
   "execution_count": 4,
   "id": "b1b3c31e",
   "metadata": {},
   "outputs": [],
   "source": [
    "flows = np.load('/home/yangxiaojie/KDD2025/model/data/flows.npy')\n",
    "flows = flows[:, ::interval, :]\n",
    "flows = flows.reshape(len(adjacency_matrix), reg_num)"
   ]
  },
  {
   "cell_type": "code",
   "execution_count": 5,
   "id": "308c4be1",
   "metadata": {},
   "outputs": [],
   "source": [
    "treatment_path = '/home/yangxiaojie/KDD2025/samples・説明書/treatment_scores_0618.pk'\n",
    "with open(treatment_path, 'rb') as f:\n",
    "    treatments = pk.load(f)"
   ]
  },
  {
   "cell_type": "code",
   "execution_count": 6,
   "id": "3179fcc9",
   "metadata": {},
   "outputs": [
    {
     "name": "stderr",
     "output_type": "stream",
     "text": [
      "/home/yangxiaojie/anaconda3/envs/py38/lib/python3.8/site-packages/numpy/core/fromnumeric.py:3432: RuntimeWarning: Mean of empty slice.\n",
      "  return _methods._mean(a, axis=axis, dtype=dtype,\n",
      "/home/yangxiaojie/anaconda3/envs/py38/lib/python3.8/site-packages/numpy/core/_methods.py:190: RuntimeWarning: invalid value encountered in double_scalars\n",
      "  ret = ret.dtype.type(ret / rcount)\n"
     ]
    }
   ],
   "source": [
    "treat_dict = {}\n",
    "alltreat = []\n",
    "\n",
    "alltreat = np.zeros((len(adjacency_matrix), reg_num, treat_dim))\n",
    "alltreat[:, :, 3] = 100\n",
    "\n",
    "for d in treatments:\n",
    "    for t in treatments[d]:\n",
    "        treat_dict[d * tim_num + t] = {}\n",
    "        for c in treatments[d][t]:\n",
    "            treat = np.mean([_ for _ in treatments[d][t][c] if len(_) == treat_dim], axis = 0)\n",
    "            if np.isnan(treat).any():\n",
    "                treat = np.array([0, 0, 0, 100, 0, 0, 0, 0, 0, 0])\n",
    "            alltreat[d * tim_num + t, c] = treat"
   ]
  },
  {
   "cell_type": "code",
   "execution_count": 10,
   "id": "a3b5bd90",
   "metadata": {
    "scrolled": true
   },
   "outputs": [],
   "source": [
    "indices = []\n",
    "for i in range(flows.shape[0]- input_window - output_window):\n",
    "    indices.append(list(range(i, i + input_window + output_window)))"
   ]
  },
  {
   "cell_type": "code",
   "execution_count": 17,
   "id": "a3474c3a",
   "metadata": {},
   "outputs": [],
   "source": [
    "length = len(indices)\n",
    "train_len = int(length * training_rate)\n",
    "valid_len = int(length * validate_rate)\n",
    "train_uplimit = indices[train_len][-1]\n",
    "scaler = data_scaler(flows[:train_uplimit, :])"
   ]
  },
  {
   "cell_type": "code",
   "execution_count": 25,
   "id": "745b4fc9",
   "metadata": {},
   "outputs": [
    {
     "name": "stderr",
     "output_type": "stream",
     "text": [
      "Processing: 100%|██████████████████████████████████████████████████████████████████████████████████████████████████████████████████████████████████████████████████████████████████████████████████████████████████████████████████████████████████████████████████████████████████████████████████████████████████████████████████████| 8736/8736 [01:57<00:00, 74.46it/s]\n"
     ]
    }
   ],
   "source": [
    "data = []\n",
    "for index, indice in enumerate(tqdm(indices, desc=\"Processing\")):\n",
    "    x = scaler.transform(torch.FloatTensor(flows[indice[:input_window], :]))\n",
    "\n",
    "    y = scaler.transform(torch.FloatTensor(flows[indice[input_window:], :]))\n",
    "    if causal:\n",
    "        treats = alltreat[indice[0] : indice[input_window], :, :]\n",
    "    else:\n",
    "        treats = None\n",
    "\n",
    "    adj = combine_sparse_tensors(adjacency_matrix[indice[0] : indice[input_window]])\n",
    "    indice = torch.LongTensor(indice)\n",
    "    t = indice[:input_window] % tim_num  # 获取时间步\n",
    "    t = t.unsqueeze(1).expand(-1, x.shape[1])  # 扩展时间步的维度\n",
    "\n",
    "    data.append([indice, x, y, t, treats, adj])"
   ]
  },
  {
   "cell_type": "code",
   "execution_count": null,
   "id": "b513884d",
   "metadata": {},
   "outputs": [],
   "source": [
    "start_date = '2023-04-01'"
   ]
  },
  {
   "cell_type": "code",
   "execution_count": 32,
   "id": "8131c0a5",
   "metadata": {},
   "outputs": [
    {
     "data": {
      "text/plain": [
       "tensor([ 0,  1,  2,  3,  4,  5,  6,  7,  8,  9, 10, 11, 12, 13, 14, 15, 16, 17,\n",
       "        18, 19, 20, 21, 22, 23, 24, 25, 26, 27, 28, 29, 30, 31, 32, 33, 34, 35,\n",
       "        36, 37, 38, 39, 40, 41, 42, 43, 44, 45, 46, 47])"
      ]
     },
     "execution_count": 32,
     "metadata": {},
     "output_type": "execute_result"
    }
   ],
   "source": [
    "data[0][0]"
   ]
  },
  {
   "cell_type": "code",
   "execution_count": 38,
   "id": "dfa28215",
   "metadata": {},
   "outputs": [],
   "source": [
    "def calculate_hour(hours_passed, start_date = '2023-04-01'):\n",
    "    # 将起始日期转换为 datetime 对象\n",
    "    start_datetime = datetime.strptime(start_date, '%Y-%m-%d')\n",
    "    \n",
    "    # 计算目标日期时间\n",
    "    target_datetime = start_datetime + timedelta(hours=hours_passed)\n",
    "    \n",
    "    # 检查是否为周末\n",
    "    is_weekend = target_datetime.weekday() >= 5  # 5 是周六，6 是周日\n",
    "    \n",
    "    # 计算目标小时（0-23 或 24-47）\n",
    "    if is_weekend:\n",
    "        result_hour = target_datetime.hour + 24\n",
    "    else:\n",
    "        result_hour = target_datetime.hour\n",
    "    \n",
    "    return result_hour"
   ]
  },
  {
   "cell_type": "code",
   "execution_count": 59,
   "id": "742413eb",
   "metadata": {},
   "outputs": [],
   "source": [
    "def calculate_week_hour(hours_passed, start_date = '2023-04-01'):\n",
    "    # 将起始日期转换为 datetime 对象\n",
    "    start_datetime = datetime.strptime(start_date, '%Y-%m-%d')\n",
    "    \n",
    "    # 计算目标日期时间\n",
    "    target_datetime = start_datetime + timedelta(hours=hours_passed)\n",
    "    \n",
    "    # 计算从周开始的小时数（0-143）\n",
    "    #days_since_week_start = target_datetime.weekday() # 星期一为0\n",
    "    result_hour = target_datetime.weekday() * 24 + target_datetime.hour\n",
    "    \n",
    "    return result_hour"
   ]
  },
  {
   "cell_type": "code",
   "execution_count": 70,
   "id": "a3173a5c",
   "metadata": {},
   "outputs": [],
   "source": [
    "start_date = '2023-04-01'\n",
    "start_datetime = datetime.strptime(start_date, '%Y-%m-%d')\n",
    "\n",
    "# 计算目标日期时间\n",
    "target_datetime = start_datetime + timedelta(hours=20)"
   ]
  },
  {
   "cell_type": "code",
   "execution_count": 73,
   "id": "6fddf6a8",
   "metadata": {},
   "outputs": [
    {
     "data": {
      "text/plain": [
       "5"
      ]
     },
     "execution_count": 73,
     "metadata": {},
     "output_type": "execute_result"
    }
   ],
   "source": [
    "target_datetime.weekday()"
   ]
  },
  {
   "cell_type": "code",
   "execution_count": 72,
   "id": "12ee9236",
   "metadata": {},
   "outputs": [
    {
     "data": {
      "text/plain": [
       "140"
      ]
     },
     "execution_count": 72,
     "metadata": {},
     "output_type": "execute_result"
    }
   ],
   "source": [
    "target_datetime.weekday() * 24 + target_datetime.hour"
   ]
  },
  {
   "cell_type": "code",
   "execution_count": 60,
   "id": "ef49deff",
   "metadata": {
    "scrolled": true
   },
   "outputs": [
    {
     "data": {
      "text/plain": [
       "[120,\n",
       " 121,\n",
       " 122,\n",
       " 123,\n",
       " 124,\n",
       " 125,\n",
       " 126,\n",
       " 127,\n",
       " 128,\n",
       " 129,\n",
       " 130,\n",
       " 131,\n",
       " 132,\n",
       " 133,\n",
       " 134,\n",
       " 135,\n",
       " 136,\n",
       " 137,\n",
       " 138,\n",
       " 139,\n",
       " 140,\n",
       " 141,\n",
       " 142,\n",
       " 143,\n",
       " 144,\n",
       " 145,\n",
       " 146,\n",
       " 147,\n",
       " 148,\n",
       " 149,\n",
       " 150,\n",
       " 151,\n",
       " 152,\n",
       " 153,\n",
       " 154,\n",
       " 155,\n",
       " 156,\n",
       " 157,\n",
       " 158,\n",
       " 159,\n",
       " 160,\n",
       " 161,\n",
       " 162,\n",
       " 163,\n",
       " 164,\n",
       " 165,\n",
       " 166,\n",
       " 167]"
      ]
     },
     "execution_count": 60,
     "metadata": {},
     "output_type": "execute_result"
    }
   ],
   "source": [
    "[calculate_week_hour(i.numpy().tolist()) for i in data[0][0]]"
   ]
  },
  {
   "cell_type": "code",
   "execution_count": 45,
   "id": "36e84d77",
   "metadata": {},
   "outputs": [
    {
     "data": {
      "text/plain": [
       "tensor([ 0,  1,  2,  3,  4,  5,  6,  7,  8,  9, 10, 11, 12, 13, 14, 15, 16, 17,\n",
       "        18, 19, 20, 21, 22, 23, 24, 25, 26, 27, 28, 29, 30, 31, 32, 33, 34, 35,\n",
       "        36, 37, 38, 39, 40, 41, 42, 43, 44, 45, 46, 47])"
      ]
     },
     "execution_count": 45,
     "metadata": {},
     "output_type": "execute_result"
    }
   ],
   "source": [
    "data[0][0]"
   ]
  }
 ],
 "metadata": {
  "kernelspec": {
   "display_name": "Python 3.8",
   "language": "python",
   "name": "py38"
  },
  "language_info": {
   "codemirror_mode": {
    "name": "ipython",
    "version": 3
   },
   "file_extension": ".py",
   "mimetype": "text/x-python",
   "name": "python",
   "nbconvert_exporter": "python",
   "pygments_lexer": "ipython3",
   "version": "3.8.0"
  }
 },
 "nbformat": 4,
 "nbformat_minor": 5
}

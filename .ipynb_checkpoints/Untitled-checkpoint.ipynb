{
 "cells": [
  {
   "cell_type": "code",
   "execution_count": 22,
   "id": "c7533808",
   "metadata": {},
   "outputs": [],
   "source": [
    "import torch\n",
    "import numpy as np\n",
    "import torch.nn as nn\n",
    "from sklearn.metrics.pairwise import cosine_similarity"
   ]
  },
  {
   "cell_type": "code",
   "execution_count": 3,
   "id": "7d069048",
   "metadata": {},
   "outputs": [],
   "source": [
    "gru = nn.GRU(10, 16, batch_first = True)"
   ]
  },
  {
   "cell_type": "code",
   "execution_count": 12,
   "id": "dfea7afd",
   "metadata": {},
   "outputs": [],
   "source": [
    "treat = torch.FloatTensor([[0, 0, 0, 100, 0, 0, 0, 0, 0, 0]] * 24).unsqueeze(0) / 100"
   ]
  },
  {
   "cell_type": "code",
   "execution_count": 65,
   "id": "2c14e65f",
   "metadata": {
    "scrolled": true
   },
   "outputs": [],
   "source": [
    "base, _ = gru(treat)"
   ]
  },
  {
   "cell_type": "code",
   "execution_count": 67,
   "id": "74a9f62f",
   "metadata": {},
   "outputs": [],
   "source": [
    "data = torch.rand((1000, 16))"
   ]
  },
  {
   "cell_type": "code",
   "execution_count": null,
   "id": "bc522f86",
   "metadata": {},
   "outputs": [],
   "source": [
    "def treat_label(treat, base):\n",
    "    data = data.cpu().detach().numpy()\n",
    "    base = base.cpu().detach().numpy()\n",
    "    similarities = cosine_similarity(data, base).flatten()\n",
    "    bins = np.arange(0, 1.1, 0.1)\n",
    "    groups = np.digitize(similarities, bins)\n",
    "    group_dict = {i: [] for i in range(0, len(bins)-1)}\n",
    "\n",
    "    # 根据分组结果填充分组字典\n",
    "    for idx, group in enumerate(groups):\n",
    "        if group < len(bins):  # 排除最后一个超出范围的分组\n",
    "            group_dict[group].append(idx)\n",
    "\n",
    "    labels = [[0]] * 1000\n",
    "    label = 0\n",
    "    for i in group_dict.keys():\n",
    "        if len(group_dict[i]) !=0:\n",
    "            for idx in group_dict[i]:\n",
    "                labels[idx] = label\n",
    "            label += 1\n",
    "    return labels"
   ]
  },
  {
   "cell_type": "code",
   "execution_count": 72,
   "id": "73cfb97d",
   "metadata": {},
   "outputs": [
    {
     "data": {
      "text/plain": [
       "{0, 1, 2, 3, 4, 5, 6, 7}"
      ]
     },
     "execution_count": 72,
     "metadata": {},
     "output_type": "execute_result"
    }
   ],
   "source": [
    "set(labels)"
   ]
  },
  {
   "cell_type": "code",
   "execution_count": null,
   "id": "8a2adc0a",
   "metadata": {},
   "outputs": [],
   "source": []
  }
 ],
 "metadata": {
  "kernelspec": {
   "display_name": "Python 3.8",
   "language": "python",
   "name": "py38"
  },
  "language_info": {
   "codemirror_mode": {
    "name": "ipython",
    "version": 3
   },
   "file_extension": ".py",
   "mimetype": "text/x-python",
   "name": "python",
   "nbconvert_exporter": "python",
   "pygments_lexer": "ipython3",
   "version": "3.8.0"
  }
 },
 "nbformat": 4,
 "nbformat_minor": 5
}
